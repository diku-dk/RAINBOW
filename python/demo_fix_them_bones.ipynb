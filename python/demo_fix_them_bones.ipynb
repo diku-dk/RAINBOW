{
 "cells": [
  {
   "cell_type": "markdown",
   "metadata": {},
   "source": [
    "# Demo of Fix Them Bones"
   ]
  },
  {
   "cell_type": "code",
   "execution_count": 1,
   "metadata": {},
   "outputs": [],
   "source": [
    "%matplotlib widget"
   ]
  },
  {
   "cell_type": "code",
   "execution_count": 1,
   "metadata": {},
   "outputs": [],
   "source": [
    "import numpy as np\n",
    "import rainbow.math.vector3 as V3\n",
    "import rainbow.math.quaternion as Q\n",
    "import rainbow.geometry.surface_mesh as MESH\n",
    "import rainbow.simulators.prox_rigid_bodies.api as API\n",
    "import rainbow.simulators.prox_rigid_bodies.solver as SOLVER\n",
    "import rainbow.simulators.prox_rigid_bodies.collision_detection as CD\n",
    "import rainbow.simulators.prox_rigid_bodies.gauss_seidel as GS\n",
    "import rainbow.util.viewer as VIEWER\n",
    "import igl\n",
    "from rainbow.util.timer import Timer"
   ]
  },
  {
   "cell_type": "code",
   "execution_count": 5,
   "metadata": {},
   "outputs": [],
   "source": [
    "def fix_them_bones(engine, separation_distance=1.0, debug_on=True):\n",
    "    \n",
    "    timer = Timer('Stepper')\n",
    "    timer.start()\n",
    "    stats = {}\n",
    "    \n",
    "    x = SOLVER.get_position_vector(engine)    \n",
    "    W = SOLVER.compute_inverse_mass_matrix(x, engine)\n",
    "    \n",
    "    stats = CD.run_collision_detection(engine, stats, debug_on)\n",
    "\n",
    "    K = len(engine.contact_points)\n",
    "    if K > 0:\n",
    "        J = SOLVER.compute_jacobian_matrix(engine)\n",
    "        WJT = W.dot(J.T)\n",
    "        # This is the g-function, telling the solver how-much to push bones apart\n",
    "        # at the contact\n",
    "        g = np.zeros(4 * K, dtype=np.float64)\n",
    "        # mu is supposed to be a vector of friction coefficients, and it is not really\n",
    "        # used in this solver. It is a left-over because the GS solver was made for\n",
    "        # friction problems.\n",
    "        mu = np.zeros(4 * K, dtype=np.float64)        \n",
    "        for k in range(K):\n",
    "            cp = engine.contact_points[k]\n",
    "            g[4 * k + 0] = cp.g - separation_distance\n",
    "        sol, stats = GS.solve(J, WJT, g, mu, GS.prox_origin, engine, stats, debug_on, \"\")\n",
    "        SOLVER.position_update(x, WJT.dot(sol), 1, engine)\n",
    "        SOLVER.set_position_vector(x, engine)\n",
    "\n",
    "    if debug_on:\n",
    "        timer.end()\n",
    "        stats['fix_them_bones'] = timer.elapsed\n",
    "        stats['contact_points'] = len(engine.contact_points)\n",
    "        stats['positions'] = x\n",
    "        stats['body_names'] = list(engine.bodies)\n",
    "        stats['max_gap'] = SOLVER.get_largest_gap_error(engine)\n",
    "\n",
    "    return stats"
   ]
  },
  {
   "cell_type": "code",
   "execution_count": 6,
   "metadata": {},
   "outputs": [
    {
     "name": "stdout",
     "output_type": "stream",
     "text": [
      "engine.params.envelope =  0.3\n",
      "engine.params.resolution =  64\n"
     ]
    }
   ],
   "source": [
    "engine = API.Engine()\n",
    "\n",
    "# The envelope controls how close objects need to be before we generate\n",
    "# a contact point between them. This setting should be larger than the\n",
    "# separation we want to have between the bones, otherwise we might miss\n",
    "# contact areas that need to be pushed apart.\n",
    "engine.params.envelope = 0.3\n",
    "print('engine.params.envelope = ',engine.params.envelope)\n",
    "\n",
    "# If signed distance grid solution is too low then the interpolation\n",
    "# errors might be larger than the separation/envelope distances we are\n",
    "# solving for. If grid resolution is too high then it may take a long time\n",
    "# to pre-compute the signed distance field. It is a bit of a tradeoff.\n",
    "engine.params.resolution = 64\n",
    "print('engine.params.resolution = ',engine.params.resolution)\n",
    "\n",
    "API.create_rigid_body(engine,'parent_bone')\n",
    "API.create_rigid_body(engine,'child_bone')\n",
    "\n",
    "V, T = MESH.create_box(4.0,4.0,4.0)\n",
    "# path_pelvic = \"/Volumes/RAINBOW-ESR1/hip-data/image_aa_7m_crop_ref/output/lpelvic_mm.stl\"\n",
    "# V, T = igl.read_triangle_mesh (path_pelvic)\n",
    "mesh = API.create_mesh(V, T)\n",
    "API.create_shape(engine, 'parent_shape', mesh)\n",
    "\n",
    "V, T = MESH.create_sphere(2.0,16,16)\n",
    "# path_femur = \"/Volumes/RAINBOW-ESR1/hip-data/image_aa_7m_crop_ref/output/lfemur_mm.stl\"\n",
    "# V, T = igl.read_triangle_mesh (path_femur)\n",
    "mesh = API.create_mesh(V, T)\n",
    "API.create_shape(engine, 'child_shape', mesh )\n",
    "\n",
    "API.connect_shape(engine, 'parent_bone', 'parent_shape')\n",
    "API.connect_shape(engine, 'child_bone', 'child_shape')\n",
    "\n",
    "API.set_mass_properties(engine,'parent_bone', 1.0)\n",
    "API.set_mass_properties(engine,'child_bone', 1.0)\n",
    "\n",
    "API.set_orientation(engine, 'parent_bone', Q.identity(), use_model_frame=True)\n",
    "API.set_position(engine, 'parent_bone', V3.make(2.0,0.0,0.0), use_model_frame=True)\n",
    "\n",
    "API.set_orientation(engine, 'child_bone', Q.identity(), use_model_frame=True)\n",
    "API.set_position(engine, 'child_bone', V3.make(-2.0, 0.0, 0.0), use_model_frame=True)\n",
    "\n",
    "# Sometimes we want to keep the parent fixed and only push the child bone\n",
    "# to ensure the desired separation distance.\n",
    "API.set_body_type(engine, 'parent_bone', 'fixed')"
   ]
  },
  {
   "cell_type": "code",
   "execution_count": 7,
   "metadata": {},
   "outputs": [
    {
     "name": "stderr",
     "output_type": "stream",
     "text": [
      "/home/rasmus/anaconda3/envs/py39/lib/python3.9/site-packages/jupyter_client/session.py:716: UserWarning: Message serialization failed with:\n",
      "Out of range float values are not JSON compliant\n",
      "Supporting this message is deprecated in jupyter-client 7, please make sure your message is JSON-compliant\n",
      "  content = self.pack(content)\n"
     ]
    },
    {
     "data": {
      "application/vnd.jupyter.widget-view+json": {
       "model_id": "bf4b0a7fcbef4864af8b50bb9309f007",
       "version_major": 2,
       "version_minor": 0
      },
      "text/plain": [
       "Renderer(camera=PerspectiveCamera(aspect=1.25, children=(DirectionalLight(color='white', intensity=0.6, positi…"
      ]
     },
     "metadata": {},
     "output_type": "display_data"
    }
   ],
   "source": [
    "def viewer_update_contacts(viewer, engine): \n",
    "    K = len(engine.contact_points)\n",
    "    V = np.zeros((K,3),dtype=np.float64)\n",
    "    N = np.zeros((K,3),dtype=np.float64)\n",
    "    for k in range(K):\n",
    "        V[k,:] = engine.contact_points[k].p\n",
    "        N[k,:] = engine.contact_points[k].n\n",
    "    viewer.update_quiver('contacts', V, N, 2.0)\n",
    "\n",
    "viewer = VIEWER.Viewer()\n",
    "for body in engine.bodies.values():\n",
    "    opacity = 0.5\n",
    "    color = V3.make(1.0,0.1,0.1)\n",
    "    viewer.create_mesh(body.name, body.shape.mesh.V, body.shape.mesh.T, color, opacity)\n",
    "viewer.create_quiver('contacts')\n",
    "\n",
    "# This is how large the minimum distance between two bones must be.\n",
    "bone_separation = 2.0\n",
    "stats = fix_them_bones(engine, bone_separation, True)\n",
    "\n",
    "for body in engine.bodies.values():\n",
    "    viewer.place_mesh(body.name, body.r, body.q)\n",
    "viewer_update_contacts(viewer, engine)\n",
    "\n",
    "viewer.show()"
   ]
  },
  {
   "cell_type": "markdown",
   "metadata": {},
   "source": [
    "Here is the outline for how to use the bone-fixing routine to adjust bone meshes to get congruent joints with good average \"separation\" distance.\n",
    "\n",
    "r_old = ... get body position of 'my bone body'\n",
    "q_old = ... get body orientating of 'my bone body'\n",
    "\n",
    "fix_them_bones(engine, bone_separation)\n",
    "\n",
    "r_new = ... get body position of 'my bone body'\n",
    "q_new = ... get body orientating of 'my bone body'\n",
    "\n",
    "dr = r_new - r_old\n",
    "dq = Q.prod(Q.conj(q_new), q_old)\n",
    "\n",
    "mesh = MESH.rotate(dq, mesh)\n",
    "mesh = MESH.translate(dr, mesh)\n",
    "\n",
    "# ... use libigl to save new mesh..."
   ]
  },
  {
   "cell_type": "code",
   "execution_count": 6,
   "metadata": {},
   "outputs": [
    {
     "data": {
      "application/vnd.jupyter.widget-view+json": {
       "model_id": "35a75c49c4064b37b5565a9339c9bc8e",
       "version_major": 2,
       "version_minor": 0
      },
      "text/plain": [
       "Canvas(toolbar=Toolbar(toolitems=[('Home', 'Reset original view', 'home', 'home'), ('Back', 'Back to previous …"
      ]
     },
     "metadata": {},
     "output_type": "display_data"
    }
   ],
   "source": [
    "import matplotlib.pyplot as plt\n",
    "\n",
    "fig = plt.figure()\n",
    "ax = plt.subplot(111)\n",
    "ax.set_title('Converegence rates')\n",
    "ax.set_xlabel('Iterations')\n",
    "ax.set_ylabel('Merit')\n",
    "plt.grid(True)\n",
    "\n",
    "if 'residuals' in stats.keys():\n",
    "    residuals = stats['residuals']\n",
    "    reject = stats['reject']\n",
    "    ax.plot( residuals[np.where(reject==False)])\n",
    "plt.show()"
   ]
  },
  {
   "cell_type": "code",
   "execution_count": null,
   "metadata": {},
   "outputs": [],
   "source": []
  }
 ],
 "metadata": {
  "kernelspec": {
   "display_name": "Python 3 (ipykernel)",
   "language": "python",
   "name": "python3"
  },
  "language_info": {
   "codemirror_mode": {
    "name": "ipython",
    "version": 3
   },
   "file_extension": ".py",
   "mimetype": "text/x-python",
   "name": "python",
   "nbconvert_exporter": "python",
   "pygments_lexer": "ipython3",
   "version": "3.9.7"
  },
  "toc": {
   "base_numbering": 1,
   "nav_menu": {},
   "number_sections": true,
   "sideBar": true,
   "skip_h1_title": false,
   "title_cell": "Table of Contents",
   "title_sidebar": "Contents",
   "toc_cell": false,
   "toc_position": {},
   "toc_section_display": true,
   "toc_window_display": false
  }
 },
 "nbformat": 4,
 "nbformat_minor": 4
}
