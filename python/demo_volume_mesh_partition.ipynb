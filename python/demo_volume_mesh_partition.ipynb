{
 "cells": [
  {
   "cell_type": "code",
   "execution_count": 6,
   "metadata": {},
   "outputs": [],
   "source": [
    "%matplotlib widget"
   ]
  },
  {
   "cell_type": "code",
   "execution_count": 2,
   "metadata": {},
   "outputs": [],
   "source": [
    "import igl\n",
    "import numpy as np"
   ]
  },
  {
   "cell_type": "code",
   "execution_count": 3,
   "metadata": {},
   "outputs": [],
   "source": [
    "def segmentationA(p):\n",
    "    return p[0]+1\n",
    "\n",
    "def segmentationB(p):\n",
    "    return  p[0]-1"
   ]
  },
  {
   "cell_type": "code",
   "execution_count": 9,
   "metadata": {},
   "outputs": [],
   "source": [
    "def partition(V, T, distA, distB):\n",
    "    import graph_tool.all as GT\n",
    "\n",
    "    # Use libigl to setup data-structures for visiting neighbors\n",
    "    # and getting geometry information about mesh.\n",
    "    TT, _ = igl.tet_tet_adjacency(T)\n",
    "    BC = igl.barycenter(V, T)\n",
    "    vol = igl.volume(V, T)\n",
    "    avg_vol = np.average(vol)\n",
    "    \n",
    "    # The first face of a tet is [0,1,2], the second [0,1,3], the third [1,2,3], and the fourth [2,0,3].    \n",
    "    triangles = np.array([[0,1,2],[0,1,3],[1,2,3],[2,0,3]], dtype=np.int32)\n",
    "    area = np.zeros(TT.shape,dtype=np.float64)\n",
    "    for e in range(len(T)):\n",
    "        area[e] = igl.doublearea(V, T[e][triangles])/2\n",
    "    \n",
    "    avg_area = np.average(area/2) # This is not entirely correct, inner faces are counted twice, outer faces only once.\n",
    "    omega = 3*(avg_area/avg_vol)**(2/3)\n",
    "            \n",
    "    g = GT.Graph()\n",
    "    g.set_directed(True)    \n",
    "    g.add_vertex(len(T)+2)\n",
    "    # Last two nodes are used as terminals\n",
    "    A_idx = len(T)\n",
    "    B_idx = A_idx +1\n",
    "    # Create edges from terminals to all tetrahedral elements. \n",
    "    for i in range(len(T)):\n",
    "        g.add_edge(A_idx, i)\n",
    "        g.add_edge(i, B_idx)\n",
    "    # Create edges between neighboring tetrahedra elements\n",
    "    for i in range(len(T)):\n",
    "        for j in range(4):\n",
    "            if TT[i,j] != -1:\n",
    "                g.add_edge(i, TT[i,j])\n",
    "    # Next we compute capacities for all edges such that: Edges to/from terminals\n",
    "    # will store the unary costs of our energy functional, and edges between\n",
    "    # neighboring tetrahedral elements will store the binary costs.\n",
    "    cap = g.new_edge_property(\"double\")\n",
    "    for i in range(len(T)):\n",
    "        e = g.edge(A_idx, i)\n",
    "        cap[e] =  omega*(vol[i]/avg_vol)*distA(BC[i])                \n",
    "        e = g.edge(i, B_idx)\n",
    "        cap[e] = omega*(vol[i]/avg_vol)*distB(BC[i])\n",
    "    # Create edges between neighboring tetrahedra elements\n",
    "    for i in range(len(T)):\n",
    "        for j in range(4):\n",
    "            if TT[i,j] != -1:\n",
    "                e = g.edge(i, TT[i,j])\n",
    "                cap[e] = area[i,j]/avg_area\n",
    "    g.edge_properties[\"cap\"] = cap    \n",
    "        \n",
    "    res = GT.boykov_kolmogorov_max_flow(g, g.vertex(A_idx), g.vertex(B_idx), cap)\n",
    "    inA = GT.min_st_cut(g, g.vertex(A_idx), cap, res)    \n",
    "    return np.array([ val for val in inA],dtype=bool)"
   ]
  },
  {
   "cell_type": "code",
   "execution_count": 10,
   "metadata": {},
   "outputs": [
    {
     "name": "stdout",
     "output_type": "stream",
     "text": [
      "[ True  True  True False]\n"
     ]
    }
   ],
   "source": [
    "V = np.array([[0.0,0.0,0.0],[1.0,0.0,0.0],[0.0,1.0,0.0],[0.0,0.0,1.0],[1.0,1.0,1.0]],dtype=np.float64)\n",
    "\n",
    "T = np.array([[1,3,2,0],[1,2,3,4]])\n",
    "\n",
    "inA = partition(V, T, segmentationA, segmentationB)\n",
    "\n",
    "print(inA)\n"
   ]
  },
  {
   "cell_type": "code",
   "execution_count": 12,
   "metadata": {},
   "outputs": [
    {
     "data": {
      "text/plain": [
       "array([[1, 2, 3, 4],\n",
       "       [1, 2, 3, 4]])"
      ]
     },
     "execution_count": 12,
     "metadata": {},
     "output_type": "execute_result"
    }
   ],
   "source": [
    "T[[1,1]]"
   ]
  },
  {
   "cell_type": "code",
   "execution_count": 15,
   "metadata": {},
   "outputs": [
    {
     "name": "stdout",
     "output_type": "stream",
     "text": [
      "(3,)\n"
     ]
    }
   ],
   "source": [
    "print(V[T[1]][1].shape)\n"
   ]
  },
  {
   "cell_type": "code",
   "execution_count": null,
   "metadata": {},
   "outputs": [],
   "source": []
  }
 ],
 "metadata": {
  "kernelspec": {
   "display_name": "Python 3 (ipykernel)",
   "language": "python",
   "name": "python3"
  },
  "language_info": {
   "codemirror_mode": {
    "name": "ipython",
    "version": 3
   },
   "file_extension": ".py",
   "mimetype": "text/x-python",
   "name": "python",
   "nbconvert_exporter": "python",
   "pygments_lexer": "ipython3",
   "version": "3.9.7"
  }
 },
 "nbformat": 4,
 "nbformat_minor": 4
}
