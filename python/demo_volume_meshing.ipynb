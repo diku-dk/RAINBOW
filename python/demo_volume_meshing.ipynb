{
 "cells": [
  {
   "cell_type": "markdown",
   "metadata": {},
   "source": [
    "# Demo showing how to use our meshing tool interfaces"
   ]
  },
  {
   "cell_type": "code",
   "execution_count": 1,
   "metadata": {},
   "outputs": [],
   "source": [
    "%matplotlib widget"
   ]
  },
  {
   "cell_type": "markdown",
   "metadata": {},
   "source": [
    "Initially we import our meshing tool modules"
   ]
  },
  {
   "cell_type": "code",
   "execution_count": null,
   "metadata": {},
   "outputs": [],
   "source": [
    "import igl\n",
    "import rainbow.geometry.volume_mesh_tetgen as TG\n",
    "import rainbow.geometry.volume_mesh_wildmesh as WM"
   ]
  },
  {
   "cell_type": "markdown",
   "metadata": {},
   "source": [
    "Next we create a little function that helps us make the plotting of our mesh results a little more nice and convenient to work with."
   ]
  },
  {
   "cell_type": "code",
   "execution_count": null,
   "metadata": {},
   "outputs": [],
   "source": [
    "def make_cut_plane_view(V, T, s=0.5, ax=0):\n",
    "    \"\"\"\n",
    "    Visualize tetrahedral mesh cut by a view-plane\n",
    "\n",
    "    :param V:   Vertex array of mesh to be visualized\n",
    "    :param T:   Tetrahedron array of mesh to be visualized\n",
    "    :param ax:  The axis direction to create a orthogonal cut view plane on. ax=0, ax=1 or ax=2.\n",
    "    :param s:   The position of the cut-plane along the axis ax. If zero everything is remove, if 1 then all is shown.\n",
    "    :return:\n",
    "    \"\"\"\n",
    "    import numpy as np\n",
    "    import igl\n",
    "    import meshplot as mp \n",
    "    min_corner = np.amin(V, axis=0)\n",
    "    max_corner = np.amax(V, axis=0)\n",
    "    diagonal = max_corner - min_corner\n",
    "    cut_position = s * diagonal + min_corner\n",
    "    c = igl.barycenter(V, T)\n",
    "    idx = np.where(c[:, ax] < cut_position[ax])\n",
    "    mp.plot(V, T[idx[0], :], shading={\"wireframe\": True})"
   ]
  },
  {
   "cell_type": "markdown",
   "metadata": {},
   "source": [
    "Next we will read in a surface mesh to play with"
   ]
  },
  {
   "cell_type": "code",
   "execution_count": 4,
   "metadata": {},
   "outputs": [],
   "source": [
    "V, F = igl.read_triangle_mesh(\"../data/armadillo.obj\")"
   ]
  },
  {
   "cell_type": "markdown",
   "metadata": {},
   "source": [
    "We start by creating a volume mesh uisng our WildMeshing interaface, before visualizing the resulting volume mesh."
   ]
  },
  {
   "cell_type": "code",
   "execution_count": null,
   "metadata": {},
   "outputs": [],
   "source": [
    "options = WM.Options()\n",
    "V2, T2 = WM.create_mesh(V, F,options)"
   ]
  },
  {
   "cell_type": "code",
   "execution_count": null,
   "metadata": {},
   "outputs": [],
   "source": [
    "make_cut_plane_view(V2, T2, s=0.75, ax=1)"
   ]
  },
  {
   "cell_type": "markdown",
   "metadata": {},
   "source": [
    "Finally we repeat meshing and visualization, but this time we use TetGen instead."
   ]
  },
  {
   "cell_type": "code",
   "execution_count": null,
   "metadata": {},
   "outputs": [],
   "source": [
    "options = TG.Options()\n",
    "V3, T3 = TG.create_mesh(V, F, options)"
   ]
  },
  {
   "cell_type": "code",
   "execution_count": null,
   "metadata": {},
   "outputs": [],
   "source": [
    "make_cut_plane_view(V3, T3, s=0.75, ax=1)"
   ]
  }
 ],
 "metadata": {
  "kernelspec": {
   "display_name": "Python 3 (ipykernel)",
   "language": "python",
   "name": "python3"
  },
  "language_info": {
   "codemirror_mode": {
    "name": "ipython",
    "version": 3
   },
   "file_extension": ".py",
   "mimetype": "text/x-python",
   "name": "python",
   "nbconvert_exporter": "python",
   "pygments_lexer": "ipython3",
   "version": "3.9.7"
  }
 },
 "nbformat": 4,
 "nbformat_minor": 4
}
