{
 "cells": [
  {
   "cell_type": "markdown",
   "metadata": {},
   "source": [
    "# Demo of API usage of the Prox Rigid Body Simulator"
   ]
  },
  {
   "cell_type": "code",
   "execution_count": 1,
   "metadata": {},
   "outputs": [],
   "source": [
    "%matplotlib widget"
   ]
  },
  {
   "cell_type": "markdown",
   "metadata": {},
   "source": [
    "First we make sure to import all modules that is needed."
   ]
  },
  {
   "cell_type": "code",
   "execution_count": 2,
   "metadata": {},
   "outputs": [],
   "source": [
    "import numpy as np\n",
    "import isl.math.vector3 as V3\n",
    "import isl.math.quaternion as Q\n",
    "import isl.geometry.surface_mesh as MESH\n",
    "import isl.simulators.prox_rigid_bodies_ccd.api as API\n",
    "import isl.simulators.prox_rigid_bodies_ccd.solver as SOLVER\n",
    "import isl.util.viewer as VIEWER"
   ]
  },
  {
   "cell_type": "markdown",
   "metadata": {},
   "source": [
    "Second we setup a test scene using the MESH module for creating geometries and API for creating objects in the engine.\n",
    "\n",
    "Observe that the mesh is just geometry which is used to create a shape. Shapes can be shared between rigid bodies and essentially defines the collision geometry of each body.\n",
    "\n",
    "After the shape has been connected with the associated rigid body then one can setup mass density and initial state like position and velocities."
   ]
  },
  {
   "cell_type": "code",
   "execution_count": 3,
   "metadata": {},
   "outputs": [],
   "source": [
    "engine = API.Engine()\n",
    "\n",
    "API.create_rigid_body(engine,'wall_body')\n",
    "API.create_rigid_body(engine,'box_body')\n",
    "API.create_rigid_body(engine,'sphere_body')\n",
    "\n",
    "V, T = MESH.create_box(2.0,8.0,8.0)\n",
    "mesh = API.create_mesh(V, T)\n",
    "API.create_shape(engine, 'wall_shape', mesh)\n",
    "\n",
    "V, T = MESH.create_box(3.0,8.0,8.0)\n",
    "mesh = API.create_mesh(V, T)\n",
    "API.create_shape(engine, 'box_shape', mesh)\n",
    "\n",
    "#V, T = MESH.create_sphere(1.0,16,16)\n",
    "V, T = MESH.create_box(1.0, 1.0, 1.0)\n",
    "mesh = API.create_mesh(V, T)\n",
    "API.create_shape(engine, 'sphere_shape', mesh)\n",
    "\n",
    "API.connect_shape(engine, 'wall_body', 'wall_shape')\n",
    "API.connect_shape(engine, 'box_body', 'box_shape')\n",
    "API.connect_shape(engine, 'sphere_body', 'sphere_shape')\n",
    "\n",
    "API.set_mass_properties(engine,'wall_body', 1.0)\n",
    "API.set_mass_properties(engine,'box_body', 1.0)\n",
    "API.set_mass_properties(engine,'sphere_body', 1.0)\n",
    "\n",
    "API.set_orientation(engine, 'wall_body', Q.identity(), use_model_frame=True)\n",
    "API.set_position(engine, 'wall_body', V3.make(10.0,0.0,0.0), use_model_frame=True)\n",
    "API.set_velocity(engine, 'wall_body', V3.make(0.0,0.0,0.0))\n",
    "API.set_spin(engine, 'wall_body', V3.make(0.0,0.0,0.0))\n",
    "API.set_body_type(engine, 'wall_body', 'fixed')\n",
    "\n",
    "API.set_orientation(engine, 'box_body', Q.identity(), use_model_frame=True)\n",
    "API.set_position(engine, 'box_body', V3.make(3.0,0.0,0.0), use_model_frame=True)\n",
    "API.set_velocity(engine, 'box_body', V3.make(0.0,0.0,0.0))\n",
    "API.set_spin(engine, 'box_body', V3.make(0.0,0.0,0.0))\n",
    "API.set_body_type(engine, 'box_body', 'fixed')\n",
    "\n",
    "API.set_orientation(engine, 'sphere_body', Q.identity(), use_model_frame=True)\n",
    "API.set_position(engine, 'sphere_body', V3.make(-3.0, 0.0, 0.0), use_model_frame=True)\n",
    "API.set_velocity(engine, 'sphere_body', V3.make(8000.0,0.0,0.0))\n",
    "#API.set_spin(engine, 'sphere_body', V3.make(0.0,0.0,20.0))"
   ]
  },
  {
   "cell_type": "markdown",
   "metadata": {},
   "source": [
    "Next we create a viewer object that will be responsible for showing the animation. We need an auxiliary function that can take contact point data out of the engine and into the viewer.\n",
    "\n",
    "Once we got this in place then we can create a simulation loop and start the simulation."
   ]
  },
  {
   "cell_type": "code",
   "execution_count": 4,
   "metadata": {},
   "outputs": [
    {
     "name": "stderr",
     "output_type": "stream",
     "text": [
      "/home/nico/.conda/envs/libisl/lib/python3.9/site-packages/jupyter_client/session.py:716: UserWarning: Message serialization failed with:\n",
      "Out of range float values are not JSON compliant\n",
      "Supporting this message is deprecated in jupyter-client 7, please make sure your message is JSON-compliant\n",
      "  content = self.pack(content)\n"
     ]
    },
    {
     "data": {
      "application/vnd.jupyter.widget-view+json": {
       "model_id": "0b12dfab88804f849bfcb0aac9cdaab7",
       "version_major": 2,
       "version_minor": 0
      },
      "text/plain": [
       "Renderer(camera=PerspectiveCamera(aspect=1.25, children=(DirectionalLight(color='white', intensity=0.6, positi…"
      ]
     },
     "metadata": {},
     "output_type": "display_data"
    },
    {
     "name": "stdout",
     "output_type": "stream",
     "text": [
      "toi=0.0004999990463256836\n",
      "toi=4.768380676978268e-10\n",
      "toi=0.0\n",
      "toi=0.0005000004768362487\n",
      "toi=0.001\n",
      "toi=0.0008549604415893555\n",
      "toi=5.532820068765433e-10\n",
      "toi=0.0\n",
      "toi=0.00014503900512863769\n",
      "toi=0.001\n",
      "toi=0.001\n",
      "toi=0.0004902753829956055\n",
      "toi=0.0005097246170043945\n",
      "toi=0.001\n",
      "toi=0.001\n",
      "toi=0.001\n",
      "toi=0.001\n",
      "toi=0.001\n",
      "toi=0.001\n",
      "toi=0.001\n",
      "toi=0.001\n",
      "toi=0.001\n",
      "toi=0.001\n",
      "toi=0.001\n",
      "toi=0.001\n",
      "toi=0.001\n",
      "toi=0.001\n",
      "toi=0.001\n",
      "toi=0.001\n",
      "toi=0.001\n",
      "toi=0.001\n",
      "toi=0.001\n",
      "toi=0.001\n",
      "toi=0.001\n",
      "toi=0.001\n",
      "toi=0.001\n",
      "toi=0.001\n",
      "toi=0.001\n",
      "toi=0.001\n",
      "toi=0.001\n",
      "toi=0.001\n",
      "toi=0.001\n",
      "toi=0.001\n",
      "toi=0.001\n",
      "toi=0.001\n",
      "toi=0.001\n",
      "toi=0.001\n",
      "toi=0.001\n",
      "toi=0.001\n",
      "toi=0.001\n",
      "toi=0.001\n",
      "toi=0.001\n",
      "toi=0.001\n",
      "toi=0.001\n",
      "toi=0.001\n",
      "toi=0.001\n",
      "toi=0.001\n",
      "toi=0.001\n",
      "toi=0.001\n",
      "toi=0.001\n",
      "toi=0.001\n",
      "toi=0.001\n",
      "toi=0.001\n",
      "toi=0.001\n",
      "toi=0.001\n",
      "toi=0.001\n",
      "toi=0.001\n",
      "toi=0.001\n",
      "toi=0.001\n",
      "toi=0.001\n",
      "toi=0.001\n",
      "toi=0.001\n",
      "toi=0.001\n",
      "toi=0.001\n",
      "toi=0.001\n",
      "toi=0.001\n",
      "toi=0.001\n",
      "toi=0.001\n",
      "toi=0.001\n",
      "toi=0.001\n",
      "toi=0.001\n",
      "toi=0.001\n",
      "toi=0.001\n",
      "toi=0.001\n",
      "toi=0.001\n",
      "toi=0.001\n",
      "toi=0.001\n",
      "toi=0.001\n",
      "toi=0.001\n",
      "toi=0.001\n",
      "toi=0.001\n",
      "toi=0.001\n",
      "toi=0.001\n",
      "toi=0.001\n",
      "toi=0.001\n",
      "toi=0.001\n",
      "toi=0.001\n",
      "toi=0.001\n",
      "toi=0.001\n",
      "toi=0.001\n",
      "toi=0.001\n",
      "toi=0.001\n",
      "toi=0.001\n",
      "toi=0.001\n",
      "toi=0.001\n",
      "toi=0.001\n",
      "toi=0.001\n"
     ]
    }
   ],
   "source": [
    "viewer = VIEWER.Viewer()\n",
    "for body in engine.bodies.values():\n",
    "    opacity = 0.5\n",
    "    color = V3.make(1.0,0.1,0.1)\n",
    "    viewer.create_mesh(body.name, body.shape.mesh.V, body.shape.mesh.T, color, opacity)\n",
    "viewer.create_quiver('contacts')\n",
    "\n",
    "    \n",
    "def update_contacts(viewer, engine): \n",
    "    K = len(engine.contact_points)\n",
    "    V = np.zeros((K,3),dtype=np.float64)\n",
    "    N = np.zeros((K,3),dtype=np.float64)\n",
    "    for k in range(K):\n",
    "        V[k,:] = engine.contact_points[k].p\n",
    "        N[k,:] = engine.contact_points[k].n\n",
    "    viewer.update_quiver('contacts', V, N, 0.5)\n",
    "    \n",
    "\n",
    "def simulation(viewer, engine, monitor=True):\n",
    "    stats = []\n",
    "    import time\n",
    "    dt = engine.params.time_step\n",
    "    T  = engine.params.total_time\n",
    "    fps = 1.0/dt\n",
    "    steps = int(np.round(T*fps))\n",
    "    \n",
    "    for i in range(steps):\n",
    "        for body in engine.bodies.values():\n",
    "            viewer.place_mesh(body.name, body.r, body.q)\n",
    "        update_contacts(viewer, engine)\n",
    "        data = SOLVER.stepper(dt, engine, monitor)\n",
    "        stats.append(data)\n",
    "        time.sleep(dt)\n",
    "    return stats\n",
    "        \n",
    "engine.params.total_time = 0.1\n",
    "viewer.show()\n",
    "viewer.hide_quiver('contacts')\n",
    "stats = simulation(viewer, engine, True)"
   ]
  },
  {
   "cell_type": "markdown",
   "metadata": {},
   "source": [
    "The stepper function in the SOLVER module is the main work horse of the simulation. It outputs a lot of statistics about the numerics. This data is useful to analyze what happend in the simulation and if the simulator was working or if something unexpected happend.\n",
    "\n",
    "Often one cares about the convergence of the solver. It is not difficult to extract and plot the convergence rates."
   ]
  },
  {
   "cell_type": "code",
   "execution_count": 5,
   "metadata": {},
   "outputs": [
    {
     "data": {
      "application/vnd.jupyter.widget-view+json": {
       "model_id": "890c80afdfb246aa98fc95df8cac1782",
       "version_major": 2,
       "version_minor": 0
      },
      "image/png": "[encoded data removed]",
      "text/html": [
       "\n",
       "            <div style=\"display: inline-block;\">\n",
       "                <div class=\"jupyter-widgets widget-label\" style=\"text-align: center;\">\n",
       "                    Figure\n",
       "                </div>\n",
       "                <img src='data:image/png;base64,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' width=640.0/>\n",
       "            </div>\n",
       "        "
      ],
      "text/plain": [
       "Canvas(toolbar=Toolbar(toolitems=[('Home', 'Reset original view', 'home', 'home'), ('Back', 'Back to previous …"
      ]
     },
     "metadata": {},
     "output_type": "display_data"
    }
   ],
   "source": [
    "import matplotlib.pyplot as plt\n",
    "\n",
    "fig = plt.figure()\n",
    "ax = plt.subplot(111)\n",
    "ax.set_title('Converegence rates')\n",
    "ax.set_xlabel('Iterations')\n",
    "ax.set_ylabel('Merit')\n",
    "plt.grid(True)\n",
    "for i in range(len(stats)):\n",
    "    data = stats[i]\n",
    "    if 'residuals' in data.keys():\n",
    "        residuals = data['residuals']\n",
    "        reject = data['reject']\n",
    "        ax.plot( residuals[np.where(reject==False)])\n",
    "plt.show()"
   ]
  },
  {
   "cell_type": "code",
   "execution_count": null,
   "metadata": {},
   "outputs": [],
   "source": []
  }
 ],
 "metadata": {
  "kernelspec": {
   "display_name": "Python 3 (ipykernel)",
   "language": "python",
   "name": "python3"
  },
  "language_info": {
   "codemirror_mode": {
    "name": "ipython",
    "version": 3
   },
   "file_extension": ".py",
   "mimetype": "text/x-python",
   "name": "python",
   "nbconvert_exporter": "python",
   "pygments_lexer": "ipython3",
   "version": "3.9.9"
  }
 },
 "nbformat": 4,
 "nbformat_minor": 4
}
