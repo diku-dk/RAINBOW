{
 "cells": [
  {
   "cell_type": "code",
   "execution_count": 1,
   "metadata": {},
   "outputs": [],
   "source": [
    "import rainbow.geometry.volume_mesh_wildmesh as WM\n",
    "import rainbow.geometry.surface_mesh as SURF"
   ]
  },
  {
   "cell_type": "code",
   "execution_count": 2,
   "metadata": {},
   "outputs": [],
   "source": [
    "V0, F0 = SURF.create_box(1, 1, 1)\n",
    "V1, F1 = SURF.create_sphere(0.25, 25, 25)\n",
    "\n",
    "Vs = [V0, V1]\n",
    "Fs = [F0, F1]\n",
    "\n",
    "CSG = WM.Difference(WM.Arg(0), WM.Arg(1))"
   ]
  },
  {
   "cell_type": "code",
   "execution_count": 3,
   "metadata": {},
   "outputs": [],
   "source": [
    "options = WM.Options()\n",
    "\n",
    "V, T = WM.create_mesh_from_csg(Vs, Fs, CSG, options)"
   ]
  },
  {
   "cell_type": "code",
   "execution_count": 4,
   "metadata": {},
   "outputs": [],
   "source": [
    "def make_cut_plane_view(V, T, s=0.5, ax=0):\n",
    "    \"\"\"\n",
    "    Visualize tetrahedral mesh cut by a view-plane\n",
    "\n",
    "    :param V:   Vertex array of mesh to be visualized\n",
    "    :param T:   Tetrahedron array of mesh to be visualized\n",
    "    :param ax:  The axis direction to create a orthogonal cut view plane on. ax=0, ax=1 or ax=2.\n",
    "    :param s:   The position of the cut-plane along the axis ax. If zero everything is remove, if 1 then all is shown.\n",
    "    :return:\n",
    "    \"\"\"\n",
    "    import numpy as np\n",
    "    import igl\n",
    "    import meshplot as mp \n",
    "    min_corner = np.amin(V, axis=0)\n",
    "    max_corner = np.amax(V, axis=0)\n",
    "    diagonal = max_corner - min_corner\n",
    "    cut_position = s * diagonal + min_corner\n",
    "    c = igl.barycenter(V, T)\n",
    "    idx = np.where(c[:, ax] < cut_position[ax])\n",
    "    mp.plot(V, T[idx[0], :], shading={\"wireframe\": True})"
   ]
  },
  {
   "cell_type": "code",
   "execution_count": 5,
   "metadata": {},
   "outputs": [
    {
     "data": {
      "application/vnd.jupyter.widget-view+json": {
       "model_id": "9adec99a993d4230bc897bbca7da69c6",
       "version_major": 2,
       "version_minor": 0
      },
      "text/plain": [
       "Renderer(camera=PerspectiveCamera(children=(DirectionalLight(color='white', intensity=0.6, position=(0.0, 0.0,…"
      ]
     },
     "metadata": {},
     "output_type": "display_data"
    }
   ],
   "source": [
    "make_cut_plane_view(V, T, ax=2)"
   ]
  },
  {
   "cell_type": "code",
   "execution_count": null,
   "metadata": {},
   "outputs": [],
   "source": []
  }
 ],
 "metadata": {
  "kernelspec": {
   "display_name": "Python 3 (ipykernel)",
   "language": "python",
   "name": "python3"
  },
  "language_info": {
   "codemirror_mode": {
    "name": "ipython",
    "version": 3
   },
   "file_extension": ".py",
   "mimetype": "text/x-python",
   "name": "python",
   "nbconvert_exporter": "python",
   "pygments_lexer": "ipython3",
   "version": "3.9.7"
  }
 },
 "nbformat": 4,
 "nbformat_minor": 4
}
