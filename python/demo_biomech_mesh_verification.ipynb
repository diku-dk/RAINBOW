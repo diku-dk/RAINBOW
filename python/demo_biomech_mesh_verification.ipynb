{
 "cells": [
  {
   "cell_type": "code",
   "execution_count": 1,
   "id": "83cb1790",
   "metadata": {},
   "outputs": [],
   "source": [
    "import rainbow.biomech.mesh_tools as MT\n",
    "import rainbow.geometry.volume_mesh_wildmesh as WM\n",
    "import rainbow.geometry.volume_mesh as VM\n",
    "import rainbow.geometry.surface_mesh as SURF\n",
    "import meshplot as mp\n",
    "import numpy as np"
   ]
  },
  {
   "cell_type": "markdown",
   "id": "9e522c0a",
   "metadata": {},
   "source": [
    "# Demo of mesh verification procedure"
   ]
  },
  {
   "cell_type": "markdown",
   "id": "b74fea6d",
   "metadata": {},
   "source": [
    "### Creating test data"
   ]
  },
  {
   "cell_type": "code",
   "execution_count": 3,
   "id": "a4cd1e35",
   "metadata": {},
   "outputs": [
    {
     "name": "stdout",
     "output_type": "stream",
     "text": [
      "TBB threads 8\n",
      "bbox_diag_length = 3.44519\n",
      "ideal_edge_length = 0.17226\n",
      "stage = 2\n",
      "eps_input = 0.00344519\n",
      "eps = 0.00190722\n",
      "eps_simplification = 0.00152578\n",
      "eps_coplanar = 3.44519e-06\n",
      "dd = 0.0022968\n",
      "dd_simplification = 0.00183744\n",
      "[2022-05-24 10:47:57.579] [float-tetwild] [info] remove duplicates: \n",
      "[2022-05-24 10:47:57.579] [float-tetwild] [info] #v: 197 -> 197\n",
      "[2022-05-24 10:47:57.579] [float-tetwild] [info] #f: 390 -> 390\n",
      "collapsing 0.006321\n",
      "swapping 0.06912\n",
      "[2022-05-24 10:47:57.655] [float-tetwild] [info] remove duplicates: \n",
      "[2022-05-24 10:47:57.655] [float-tetwild] [info] #v: 197 -> 197\n",
      "[2022-05-24 10:47:57.655] [float-tetwild] [info] #f: 390 -> 390\n",
      "[2022-05-24 10:47:57.655] [float-tetwild] [info] #v = 197\n",
      "[2022-05-24 10:47:57.655] [float-tetwild] [info] #f = 390\n",
      "#boundary_e1 = 0\n",
      "#boundary_e2 = 0\n",
      "[2022-05-24 10:47:57.656] [float-tetwild] [info] preprocessing 0.077122s\n",
      "[2022-05-24 10:47:57.656] [float-tetwild] [info] \n",
      "[2022-05-24 10:47:57.696] [float-tetwild] [info] #v = 1478\n",
      "[2022-05-24 10:47:57.696] [float-tetwild] [info] #t = 7353\n",
      "[2022-05-24 10:47:57.696] [float-tetwild] [info] tetrahedralizing 0.039912s\n",
      "[2022-05-24 10:47:57.696] [float-tetwild] [info] \n",
      "[2022-05-24 10:47:57.696] [float-tetwild] [info] triangle insertion start, #f = 390, #v = 1478, #t = 7353\n",
      "[2022-05-24 10:47:57.697] [float-tetwild] [info] matched #f = 88, uninserted #f = 302\n",
      "[2022-05-24 10:47:57.864] [float-tetwild] [info] insert_one_triangle * n done, #v = 2293, #t = 11296\n",
      "[2022-05-24 10:47:57.864] [float-tetwild] [info] uninserted #f = 0/302\n",
      "[2022-05-24 10:47:57.864] [float-tetwild] [info] total timing: 0s\n",
      "[2022-05-24 10:47:57.867] [float-tetwild] [info] pair_track_surface_fs done\n",
      "#boundary_e1 = 0\n",
      "#boundary_e2 = 0\n",
      "[2022-05-24 10:47:57.867] [float-tetwild] [info] find_boundary_edges done\n",
      "[2022-05-24 10:47:57.868] [float-tetwild] [info] time1 = 0.000239\n",
      "[2022-05-24 10:47:57.868] [float-tetwild] [info] uninsert boundary #e = 0/0\n",
      "[2022-05-24 10:47:57.868] [float-tetwild] [info] time2 = 0\n",
      "[2022-05-24 10:47:57.868] [float-tetwild] [info] time3 = 0\n",
      "[2022-05-24 10:47:57.868] [float-tetwild] [info] time4 = 0\n",
      "[2022-05-24 10:47:57.868] [float-tetwild] [info] time5 = 0\n",
      "[2022-05-24 10:47:57.868] [float-tetwild] [info] time6 = 0\n",
      "[2022-05-24 10:47:57.868] [float-tetwild] [info] uninserted #f = 0/302\n",
      "known_surface_fs.size = 0\n",
      "known_not_surface_fs.size = 0\n",
      "[2022-05-24 10:47:57.997] [float-tetwild] [info] mark_surface_fs done\n",
      "[2022-05-24 10:47:57.997] [float-tetwild] [info] #b_edge1 = 0, #b_edges2 = 0\n",
      "[2022-05-24 10:47:57.997] [float-tetwild] [info] cutting 0.301475s\n",
      "[2022-05-24 10:47:57.997] [float-tetwild] [info] \n",
      "initializing...\n",
      "edge collapsing...\n",
      "fixed 13 tangled element\n",
      "success(env) = 209\n",
      "success = 488(2021)\n",
      "success(env) = 13\n",
      "success = 22(540)\n",
      "success(env) = 1\n",
      "success = 2(90)\n",
      "success(env) = 0\n",
      "success = 0(22)\n",
      "edge collapsing done!\n",
      "time = 0.088344s\n",
      "#v = 1531\n",
      "#t = 7549\n",
      "max_energy = 3.91249e+11\n",
      "avg_energy = 1.58199e+08\n",
      "//////////////// pass 0 ////////////////\n",
      "edge splitting...\n",
      "fixed 13 tangled element\n",
      "success = 9216(9222)\n",
      "edge splitting done!\n",
      "time = 0.034223s\n",
      "#v = 10747\n",
      "#t = 55109\n",
      "max_energy = 1.09379e+12\n",
      "avg_energy = 5.45248e+07\n",
      "edge collapsing...\n",
      "fixed 3 tangled element\n",
      "success(env) = 179\n",
      "success = 6568(25133)\n",
      "success(env) = 31\n",
      "success = 363(5942)\n",
      "success(env) = 19\n",
      "success = 56(2509)\n",
      "success(env) = 0\n",
      "success = 12(561)\n",
      "success(env) = 1\n",
      "success = 3(161)\n",
      "success(env) = 0\n",
      "success = 2(33)\n",
      "success(env) = 0\n",
      "success = 1(17)\n",
      "success(env) = 0\n",
      "success = 0(6)\n",
      "edge collapsing done!\n",
      "time = 0.291186s\n",
      "#v = 3742\n",
      "#t = 17781\n",
      "max_energy = 3.91249e+11\n",
      "avg_energy = 3.50492e+07\n",
      "edge swapping...\n",
      "fixed 2 tangled element\n",
      "success3 = 134\n",
      "success4 = 697\n",
      "success5 = 42\n",
      "success = 873(12281)\n",
      "edge swapping done!\n",
      "time = 0.111506s\n",
      "#v = 3742\n",
      "#t = 17689\n",
      "max_energy = 11.107\n",
      "avg_energy = 3.66197\n",
      "vertex smoothing...\n",
      "success = 2117(2527)\n",
      "vertex smoothing done!\n",
      "time = 0.064351s\n",
      "#v = 3742\n",
      "#t = 17689\n",
      "max_energy = 8.72449\n",
      "avg_energy = 3.50386\n",
      "//////////////// postprocessing ////////////////\n",
      "edge collapsing...\n",
      "fixed 0 tangled element\n",
      "success(env) = 21\n",
      "success = 161(3300)\n",
      "success(env) = 1\n",
      "success = 8(1055)\n",
      "success(env) = 0\n",
      "success = 1(70)\n",
      "success(env) = 0\n",
      "success = 0(7)\n",
      "edge collapsing done!\n",
      "time = 0.040005s\n",
      "#v = 3572\n",
      "#t = 16804\n",
      "max_energy = 8.72449\n",
      "avg_energy = 3.48518\n",
      "[2022-05-24 10:47:58.631] [float-tetwild] [info] mesh optimization 0.633611s\n",
      "[2022-05-24 10:47:58.631] [float-tetwild] [info] \n",
      "[2022-05-24 10:47:58.634] [float-tetwild] [info] correct_tracked_surface_orientation done\n",
      "[2022-05-24 10:47:58.679] [float-tetwild] [info] after winding number\n",
      "[2022-05-24 10:47:58.679] [float-tetwild] [info] #v = 1182\n",
      "[2022-05-24 10:47:58.679] [float-tetwild] [info] #t = 5490\n",
      "[2022-05-24 10:47:58.679] [float-tetwild] [info] winding number 1.65338e+09s\n",
      "[2022-05-24 10:47:58.679] [float-tetwild] [info] \n"
     ]
    }
   ],
   "source": [
    "# First we create a surface mesh of a sphere\n",
    "V, F = SURF.create_sphere(1,15,15)\n",
    "# Next we make a volume mesh from the surface mesh of the sphere\n",
    "VT, T = WM.create_mesh(V, F, WM.Options())"
   ]
  },
  {
   "cell_type": "code",
   "execution_count": 4,
   "id": "60881039",
   "metadata": {},
   "outputs": [
    {
     "name": "stderr",
     "output_type": "stream",
     "text": [
      "/home/rasmus/anaconda3/envs/py39/lib/python3.9/site-packages/jupyter_client/session.py:716: UserWarning: Message serialization failed with:\n",
      "Out of range float values are not JSON compliant\n",
      "Supporting this message is deprecated in jupyter-client 7, please make sure your message is JSON-compliant\n",
      "  content = self.pack(content)\n"
     ]
    },
    {
     "data": {
      "application/vnd.jupyter.widget-view+json": {
       "model_id": "ea842fa70a384bcfa48987c011b3e3e6",
       "version_major": 2,
       "version_minor": 0
      },
      "text/plain": [
       "HBox(children=(Output(), Output()))"
      ]
     },
     "metadata": {},
     "output_type": "display_data"
    }
   ],
   "source": [
    "# Surface sphere on the left\n",
    "sphere_plot = mp.subplot(V, F, shading={\"wireframe\":True}, s=[1,2,0])\n",
    "# Volume sphere on the right\n",
    "mp.subplot(VT, T, s=[1,2,1], shading={\"wireframe\":True}, data=sphere_plot)"
   ]
  },
  {
   "cell_type": "markdown",
   "id": "8336b8d2",
   "metadata": {},
   "source": [
    "### Verifying the test data\n",
    "Notice how verification of surface and volume meshes are handled automatically"
   ]
  },
  {
   "cell_type": "code",
   "execution_count": null,
   "id": "88d96d96",
   "metadata": {},
   "outputs": [],
   "source": [
    "# Verify surface mesh\n",
    "MT.verify_mesh(V, F)"
   ]
  },
  {
   "cell_type": "code",
   "execution_count": null,
   "id": "09974351",
   "metadata": {},
   "outputs": [],
   "source": [
    "# Verify volume mesh\n",
    "MT.verify_mesh(VT, T)"
   ]
  },
  {
   "cell_type": "markdown",
   "id": "8d76cd2b",
   "metadata": {},
   "source": [
    "### Verifying 'unclean' mesh\n",
    "Let us try and create a situation in which the verification procedure complains:\n",
    "This can be done by e.g. flipping the orientation of the elements in the volume mesh."
   ]
  },
  {
   "cell_type": "code",
   "execution_count": null,
   "id": "77ba0fa6",
   "metadata": {},
   "outputs": [],
   "source": [
    "T_flipped = np.copy(T)\n",
    "# Flip orientation by interchanging two points in every tet\n",
    "T_flipped[:,[0,1]] = T_flipped[:,[1,0]]\n",
    "\n",
    "# Verify volume mesh with flipped orientation\n",
    "MT.verify_mesh(VT, T_flipped)"
   ]
  },
  {
   "cell_type": "markdown",
   "id": "1c47dc46",
   "metadata": {},
   "source": [
    "Or in the surface mesh"
   ]
  },
  {
   "cell_type": "code",
   "execution_count": null,
   "id": "5185d6da",
   "metadata": {},
   "outputs": [],
   "source": [
    "F_flipped = np.copy(F)\n",
    "# Flip orientation by interchanging two points in the first triangle\n",
    "F_flipped[0,[0,1]] = F_flipped[0,[1,0]]\n",
    "\n",
    "# Verify volume mesh with flipped orientation\n",
    "MT.verify_mesh(V, F_flipped)"
   ]
  },
  {
   "cell_type": "markdown",
   "id": "b2886a58",
   "metadata": {},
   "source": [
    "And here we create a non-manifold mesh and verify it"
   ]
  },
  {
   "cell_type": "code",
   "execution_count": null,
   "id": "a9823e9f",
   "metadata": {},
   "outputs": [],
   "source": [
    "V = np.array([[1., 0., 0.],\n",
    "              [0., 1., 0.],\n",
    "              [0., 0., 1.],\n",
    "              [1., 1., 1.],\n",
    "              [1., 1., 2.],\n",
    "              [2., 1., 2.],\n",
    "              [2., 2., 1.]])\n",
    "\n",
    "T = np.array([[0,1,2,3],\n",
    "              [3,4,5,6]])\n",
    "\n",
    "p = mp.plot(V, T,shading={\"wireframe\":True},return_plot=True)"
   ]
  },
  {
   "cell_type": "code",
   "execution_count": null,
   "id": "23a3de4e",
   "metadata": {},
   "outputs": [],
   "source": [
    "MT.verify_mesh(V, T)"
   ]
  },
  {
   "cell_type": "code",
   "execution_count": null,
   "id": "9b51171f",
   "metadata": {},
   "outputs": [],
   "source": []
  }
 ],
 "metadata": {
  "kernelspec": {
   "display_name": "Python 3 (ipykernel)",
   "language": "python",
   "name": "python3"
  },
  "language_info": {
   "codemirror_mode": {
    "name": "ipython",
    "version": 3
   },
   "file_extension": ".py",
   "mimetype": "text/x-python",
   "name": "python",
   "nbconvert_exporter": "python",
   "pygments_lexer": "ipython3",
   "version": "3.9.7"
  }
 },
 "nbformat": 4,
 "nbformat_minor": 5
}
