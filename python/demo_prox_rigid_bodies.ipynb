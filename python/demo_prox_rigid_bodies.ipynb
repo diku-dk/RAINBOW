{
 "cells": [
  {
   "cell_type": "markdown",
   "metadata": {
    "pycharm": {
     "name": "#%% md\n"
    }
   },
   "source": [
    "# Demo of API usage of the Prox Rigid Body Simulator"
   ]
  },
  {
   "cell_type": "code",
   "execution_count": 1,
   "metadata": {
    "pycharm": {
     "name": "#%%\n"
    }
   },
   "outputs": [],
   "source": [
    "%matplotlib widget"
   ]
  },
  {
   "cell_type": "markdown",
   "metadata": {
    "pycharm": {
     "name": "#%% md\n"
    }
   },
   "source": [
    "First we make sure to import all modules that is needed."
   ]
  },
  {
   "cell_type": "code",
   "execution_count": 2,
   "metadata": {
    "pycharm": {
     "name": "#%%\n"
    }
   },
   "outputs": [],
   "source": [
    "import numpy as np\n",
    "import rainbow.math.vector3 as V3\n",
    "import rainbow.math.quaternion as Q\n",
    "import rainbow.geometry.surface_mesh as MESH\n",
    "import rainbow.simulators.prox_rigid_bodies.api as API\n",
    "import rainbow.util.viewer as VIEWER"
   ]
  },
  {
   "cell_type": "markdown",
   "metadata": {
    "pycharm": {
     "name": "#%% md\n"
    }
   },
   "source": [
    "Second we setup a test scene using the MESH module for creating geometries and API for creating objects in the engine.\n",
    "\n",
    "Observe that the mesh is just geometry which is used to create a shape. Shapes can be shared between rigid bodies and essentially defines the collision geometry of each body.\n",
    "\n",
    "After the shape has been connected with the associated rigid body then one can setup mass density and initial state like position and velocities."
   ]
  },
  {
   "cell_type": "code",
   "execution_count": 3,
   "metadata": {
    "pycharm": {
     "name": "#%%\n"
    }
   },
   "outputs": [],
   "source": [
    "engine = API.create_engine()\n",
    "\n",
    "API.create_rigid_body(engine,'box_body')\n",
    "API.create_rigid_body(engine,'sphere_body')\n",
    "\n",
    "V, T = MESH.create_box(4.0,4.0,4.0)\n",
    "mesh = API.create_mesh(V, T)\n",
    "API.create_shape(engine, 'box_shape', mesh)\n",
    "\n",
    "V, T = MESH.create_sphere(2.0,16,16)\n",
    "mesh = API.create_mesh(V, T)\n",
    "API.create_shape(engine, 'sphere_shape', mesh )\n",
    "\n",
    "API.connect_shape(engine, 'box_body', 'box_shape')\n",
    "API.connect_shape(engine, 'sphere_body', 'sphere_shape')\n",
    "\n",
    "API.set_mass_properties(engine,'box_body', 1.0)\n",
    "API.set_mass_properties(engine,'sphere_body', 1.0)\n",
    "\n",
    "API.set_orientation(engine, 'box_body', Q.identity(), use_model_frame=True)\n",
    "API.set_position(engine, 'box_body', V3.make(3.0,0.0,0.0), use_model_frame=True)\n",
    "API.set_velocity(engine, 'box_body', V3.make(0.0,0.0,0.0))\n",
    "API.set_spin(engine, 'box_body', V3.make(0.0,0.0,0.0))\n",
    "API.set_body_type(engine, 'box_body', 'fixed')\n",
    "\n",
    "API.set_orientation(engine, 'sphere_body', Q.identity(), use_model_frame=True)\n",
    "API.set_position(engine, 'sphere_body', V3.make(-1.25, 0.0, 0.0), use_model_frame=True)\n",
    "API.set_velocity(engine, 'sphere_body', V3.make(10.0,0.0,0.0))\n",
    "API.set_spin(engine, 'sphere_body', V3.make(0.0,0.0,20.0))"
   ]
  },
  {
   "cell_type": "markdown",
   "metadata": {
    "pycharm": {
     "name": "#%% md\n"
    }
   },
   "source": [
    "Next we create a viewer object that will be responsible for showing the animation. We need an auxiliary function that can take contact point data out of the engine and into the viewer.\n",
    "\n",
    "Once we got this in place then we can create a simulation loop and start the simulation."
   ]
  },
  {
   "cell_type": "code",
   "execution_count": 4,
   "metadata": {
    "pycharm": {
     "name": "#%%\n"
    }
   },
   "outputs": [
    {
     "name": "stderr",
     "output_type": "stream",
     "text": [
      "/home/rasmus/anaconda3/envs/py39/lib/python3.9/site-packages/jupyter_client/session.py:716: UserWarning: Message serialization failed with:\n",
      "Out of range float values are not JSON compliant\n",
      "Supporting this message is deprecated in jupyter-client 7, please make sure your message is JSON-compliant\n",
      "  content = self.pack(content)\n"
     ]
    },
    {
     "data": {
      "application/vnd.jupyter.widget-view+json": {
       "model_id": "c0cc15fea7d34bf990144d4a5cfe4220",
       "version_major": 2,
       "version_minor": 0
      },
      "text/plain": [
       "Renderer(camera=PerspectiveCamera(aspect=1.25, children=(DirectionalLight(color='white', intensity=0.6, positi…"
      ]
     },
     "metadata": {},
     "output_type": "display_data"
    }
   ],
   "source": [
    "viewer = VIEWER.Viewer()\n",
    "for body in engine.bodies.values():\n",
    "    opacity = 0.5\n",
    "    color = V3.make(1.0,0.1,0.1)\n",
    "    viewer.create_mesh(body.name, body.shape.mesh.V, body.shape.mesh.T, color, opacity)\n",
    "viewer.create_quiver('contacts')\n",
    "\n",
    "    \n",
    "def update_contacts(viewer, engine): \n",
    "    K = len(engine.contact_points)\n",
    "    V = np.zeros((K,3),dtype=np.float64)\n",
    "    N = np.zeros((K,3),dtype=np.float64)\n",
    "    for k in range(K):\n",
    "        V[k,:] = engine.contact_points[k].p\n",
    "        N[k,:] = engine.contact_points[k].n\n",
    "    viewer.update_quiver('contacts', V, N, 2.0)\n",
    "    \n",
    "\n",
    "def run_simulation(viewer, engine, monitor=True):\n",
    "    dt = engine.params.time_step\n",
    "    T  = 0.1 # total time\n",
    "    fps = 1.0/dt\n",
    "    steps = int(np.round(T*fps))    \n",
    "    for i in range(steps):\n",
    "        for body in engine.bodies.values():\n",
    "            viewer.place_mesh(body.name, body.r, body.q)\n",
    "        update_contacts(viewer, engine)\n",
    "        API.simulate(engine, dt, monitor)\n",
    "        \n",
    "viewer.show()\n",
    "viewer.hide_quiver('contacts')\n",
    "run_simulation(viewer, engine, True)"
   ]
  },
  {
   "cell_type": "markdown",
   "metadata": {
    "pycharm": {
     "name": "#%% md\n"
    }
   },
   "source": [
    "The stepper function in the SOLVER module is the main work horse of the simulation. It outputs a lot of statistics about the numerics. This data is useful to analyze what happend in the simulation and if the simulator was working or if something unexpected happend.\n",
    "\n",
    "Often one cares about the convergence of the solver. It is not difficult to extract and plot the convergence rates."
   ]
  },
  {
   "cell_type": "code",
   "execution_count": 5,
   "metadata": {
    "pycharm": {
     "name": "#%%\n"
    }
   },
   "outputs": [
    {
     "data": {
      "image/png": "[encoded data removed]",
      "text/plain": [
       "<Figure size 432x288 with 1 Axes>"
      ]
     },
     "metadata": {
      "needs_background": "light"
     },
     "output_type": "display_data"
    }
   ],
   "source": [
    "import matplotlib.pyplot as plt\n",
    "\n",
    "stats = API.get_log(engine)\n",
    "\n",
    "fig = plt.figure()\n",
    "ax = plt.subplot(111)\n",
    "ax.set_title('Converegence rates')\n",
    "ax.set_xlabel('Iterations')\n",
    "ax.set_ylabel('Merit')\n",
    "plt.grid(True)\n",
    "for i in range(len(stats)):\n",
    "    data = stats[i]\n",
    "    if 'residuals' in data.keys():\n",
    "        residuals = data['residuals']\n",
    "        reject = data['reject']\n",
    "        ax.plot( residuals[np.where(reject==False)])\n",
    "plt.show()"
   ]
  },
  {
   "cell_type": "code",
   "execution_count": null,
   "metadata": {
    "pycharm": {
     "name": "#%%\n"
    }
   },
   "outputs": [],
   "source": []
  }
 ],
 "metadata": {
  "kernelspec": {
   "display_name": "Python 3 (ipykernel)",
   "language": "python",
   "name": "python3"
  },
  "language_info": {
   "codemirror_mode": {
    "name": "ipython",
    "version": 3
   },
   "file_extension": ".py",
   "mimetype": "text/x-python",
   "name": "python",
   "nbconvert_exporter": "python",
   "pygments_lexer": "ipython3",
   "version": "3.9.7"
  }
 },
 "nbformat": 4,
 "nbformat_minor": 4
}
