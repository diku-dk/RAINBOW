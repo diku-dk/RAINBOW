{
 "cells": [
  {
   "cell_type": "markdown",
   "id": "409dcbaf",
   "metadata": {},
   "source": [
    "# Brand New Simulator"
   ]
  },
  {
   "cell_type": "code",
   "execution_count": 3,
   "id": "8057b308",
   "metadata": {},
   "outputs": [
    {
     "data": {
      "text/plain": [
       "<function __main__.main()>"
      ]
     },
     "execution_count": 3,
     "metadata": {},
     "output_type": "execute_result"
    }
   ],
   "source": [
    "def run_stuff():\n",
    "    pass\n",
    "def main():\n",
    "    run_stuff()\n",
    "main"
   ]
  }
 ],
 "metadata": {
  "kernelspec": {
   "display_name": "Python 3 (ipykernel)",
   "language": "python",
   "name": "python3"
  },
  "language_info": {
   "codemirror_mode": {
    "name": "ipython",
    "version": 3
   },
   "file_extension": ".py",
   "mimetype": "text/x-python",
   "name": "python",
   "nbconvert_exporter": "python",
   "pygments_lexer": "ipython3",
   "version": "3.9.7"
  }
 },
 "nbformat": 4,
 "nbformat_minor": 5
}
