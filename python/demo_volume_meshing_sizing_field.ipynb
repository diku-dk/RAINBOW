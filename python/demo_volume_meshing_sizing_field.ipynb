{
 "cells": [
  {
   "cell_type": "code",
   "execution_count": 1,
   "metadata": {},
   "outputs": [
    {
     "ename": "ModuleNotFoundError",
     "evalue": "No module named 'rainbow.geometry.volume_mesh_tetgen'",
     "output_type": "error",
     "traceback": [
      "\u001b[0;31m---------------------------------------------------------------------------\u001b[0m",
      "\u001b[0;31mModuleNotFoundError\u001b[0m                       Traceback (most recent call last)",
      "\u001b[0;32m/tmp/ipykernel_21432/2459733953.py\u001b[0m in \u001b[0;36m<module>\u001b[0;34m\u001b[0m\n\u001b[1;32m      1\u001b[0m \u001b[0;32mimport\u001b[0m \u001b[0mrainbow\u001b[0m\u001b[0;34m.\u001b[0m\u001b[0mgeometry\u001b[0m\u001b[0;34m.\u001b[0m\u001b[0mvolume_mesh\u001b[0m \u001b[0;32mas\u001b[0m \u001b[0mVM\u001b[0m\u001b[0;34m\u001b[0m\u001b[0;34m\u001b[0m\u001b[0m\n\u001b[1;32m      2\u001b[0m \u001b[0;32mimport\u001b[0m \u001b[0mrainbow\u001b[0m\u001b[0;34m.\u001b[0m\u001b[0mgeometry\u001b[0m\u001b[0;34m.\u001b[0m\u001b[0mvolume_mesh_wildmesh\u001b[0m \u001b[0;32mas\u001b[0m \u001b[0mWM\u001b[0m\u001b[0;34m\u001b[0m\u001b[0;34m\u001b[0m\u001b[0m\n\u001b[0;32m----> 3\u001b[0;31m \u001b[0;32mimport\u001b[0m \u001b[0mrainbow\u001b[0m\u001b[0;34m.\u001b[0m\u001b[0mgeometry\u001b[0m\u001b[0;34m.\u001b[0m\u001b[0mvolume_mesh_tetgen\u001b[0m \u001b[0;32mas\u001b[0m \u001b[0mTG\u001b[0m\u001b[0;34m\u001b[0m\u001b[0;34m\u001b[0m\u001b[0m\n\u001b[0m\u001b[1;32m      4\u001b[0m \u001b[0;32mimport\u001b[0m \u001b[0mrainbow\u001b[0m\u001b[0;34m.\u001b[0m\u001b[0mgeometry\u001b[0m\u001b[0;34m.\u001b[0m\u001b[0mvolume_mesh_sizing_functions\u001b[0m \u001b[0;32mas\u001b[0m \u001b[0mSF\u001b[0m\u001b[0;34m\u001b[0m\u001b[0;34m\u001b[0m\u001b[0m\n\u001b[1;32m      5\u001b[0m \u001b[0;34m\u001b[0m\u001b[0m\n",
      "\u001b[0;31mModuleNotFoundError\u001b[0m: No module named 'rainbow.geometry.volume_mesh_tetgen'"
     ]
    }
   ],
   "source": [
    "import rainbow.geometry.volume_mesh as VM\n",
    "import rainbow.geometry.volume_mesh_wildmesh as WM\n",
    "import rainbow.geometry.volume_mesh_tetgen as TG\n",
    "import rainbow.geometry.volume_mesh_sizing_functions as SF\n",
    "\n",
    "import rainbow.geometry.mean_curvature as MC\n",
    "import rainbow.geometry.surface_mesh as SURF\n",
    "import rainbow.geometry.grid3 as GRID3\n",
    "\n",
    "import numpy as np"
   ]
  },
  {
   "cell_type": "code",
   "execution_count": 2,
   "metadata": {},
   "outputs": [],
   "source": [
    "def make_cut_plane_view(V, T, s=0.5, ax=0, colors=None):\n",
    "    \"\"\"\n",
    "    Visualize tetrahedral mesh cut by a view-plane\n",
    "\n",
    "    :param V:   Vertex array of mesh to be visualized\n",
    "    :param T:   Tetrahedron array of mesh to be visualized\n",
    "    :param ax:  The axis direction to create a orthogonal cut view plane on. ax=0, ax=1 or ax=2.\n",
    "    :param s:   The position of the cut-plane along the axis ax. If zero everything is remove, if 1 then all is shown.\n",
    "    :param colors: optional array of colors for the visualization\n",
    "    :return:\n",
    "    \"\"\"\n",
    "    import numpy as np\n",
    "    import igl\n",
    "    import meshplot as mp \n",
    "    min_corner = np.amin(V, axis=0)\n",
    "    max_corner = np.amax(V, axis=0)\n",
    "    diagonal = max_corner - min_corner\n",
    "    cut_position = s * diagonal + min_corner\n",
    "    c = igl.barycenter(V, T)\n",
    "    idx = np.where(c[:, ax] < cut_position[ax])\n",
    "    if colors is not None:\n",
    "        mp.plot(V, T[idx[0], :], colors, shading={\"wireframe\": True})\n",
    "    else:\n",
    "        mp.plot(V, T[idx[0], :], shading={\"wireframe\": True})"
   ]
  },
  {
   "cell_type": "code",
   "execution_count": null,
   "metadata": {},
   "outputs": [],
   "source": [
    "# Create Two Simple Shaped a Box and a Sphere\n",
    "boxV, boxF = SURF.create_box(1, 1, 1)\n",
    "sphereV, sphereF = SURF.create_sphere(0.5, 25, 25)"
   ]
  },
  {
   "cell_type": "code",
   "execution_count": null,
   "metadata": {},
   "outputs": [],
   "source": [
    "# Create background mesh with sizing function\n",
    "I = 4\n",
    "J = 4\n",
    "K = 4\n",
    "min_value = 1/40\n",
    "max_value = 1/10\n",
    "box_grid = SF.create_linear_field_around_mesh(boxV, I, J, K, min_value, max_value)\n",
    "\n",
    "# Show inside of the background mesh\n",
    "GRID3.show_layer(box_grid, 1)\n",
    "\n",
    "# Get the volume mesh data\n",
    "bV, bT, bA = VM.from_grid3d(box_grid)"
   ]
  },
  {
   "cell_type": "code",
   "execution_count": null,
   "metadata": {},
   "outputs": [],
   "source": [
    "# Create background mesh with sizing function\n",
    "sphere_grid = GRID3.create_signed_distance(sphereV, sphereF, 20, 20, 20)\n",
    "sphere_grid = MC.create_from_sdf(sphere_grid)\n",
    "\n",
    "## Use linear iterpolation\n",
    "emin = 1/80\n",
    "emax = 1/10\n",
    "kmin = min(sphere_grid.values)\n",
    "kmax = max(sphere_grid.values)\n",
    "\n",
    "for k in range(len(sphere_grid.values)):\n",
    "    # Linear interpolation\n",
    "    S = max(min(sphere_grid.values[k],kmax),kmin)/(kmax-kmin)\n",
    "    sphere_grid.values[k] = emin * (1 - S) + emax * S\n",
    "    \n",
    "# Show inside of the background mesh\n",
    "GRID3.show_layer(sphere_grid, 10)\n",
    "\n",
    "# Get the volume mesh data\n",
    "sV, sT, sA = VM.from_grid3d(sphere_grid)"
   ]
  },
  {
   "cell_type": "code",
   "execution_count": null,
   "metadata": {},
   "outputs": [],
   "source": [
    "WM_options = WM.Options()\n",
    "# Box\n",
    "V3, T3 = WM.create_mesh(boxV, boxF, WM_options, bV, bT, bA)\n",
    "\n",
    "# Sphere\n",
    "V4, T4 = WM.create_mesh(sphereV, sphereF, WM_options, sV, sT, sA)\n",
    "\n",
    "make_cut_plane_view(V3, T3, ax=2)\n",
    "make_cut_plane_view(V4, T4, ax=2)"
   ]
  },
  {
   "cell_type": "code",
   "execution_count": null,
   "metadata": {},
   "outputs": [],
   "source": [
    "TG_options = TG.Options()\n",
    "# Box\n",
    "V1, T1 = TG.create_mesh(boxV, boxF, TG_options, bV, bT, bA)\n",
    "\n",
    "# Sphere\n",
    "V2, T2 = TG.create_mesh(sphereV, sphereF, TG_options, sV, sT, sA)\n",
    "\n",
    "make_cut_plane_view(V1, T1, d=2)\n",
    "make_cut_plane_view(V2, T2, d=2)"
   ]
  },
  {
   "cell_type": "markdown",
   "metadata": {},
   "source": [
    "# New additions to the sizing function interface"
   ]
  },
  {
   "cell_type": "code",
   "execution_count": null,
   "metadata": {},
   "outputs": [],
   "source": [
    "V_box, F_box = SURF.create_box(10,10,10)\n",
    "grid = GRID3.Grid(np.array([-10,-10,-10]), np.array([10,10,10]), 20, 20, 20)"
   ]
  },
  {
   "cell_type": "code",
   "execution_count": null,
   "metadata": {},
   "outputs": [],
   "source": [
    "phi = SF.signed_distance_field(V_box, F_box)\n",
    "grid.values = SF.sample_vertices(GRID3.get_nodes_array(grid), phi)\n",
    "bV, bT, bA = VM.from_grid3d(grid)\n",
    "make_cut_plane_view(bV, bT, ax=2, colors=bA)"
   ]
  },
  {
   "cell_type": "code",
   "execution_count": null,
   "metadata": {},
   "outputs": [],
   "source": [
    "h = SF.scale(phi, SF.const(2))\n",
    "grid.values = SF.sample_vertices(GRID3.get_nodes_array(grid), h)\n",
    "bV, bT, bA = VM.from_grid3d(grid)\n",
    "make_cut_plane_view(bV, bT, ax=2, colors=bA)"
   ]
  },
  {
   "cell_type": "code",
   "execution_count": null,
   "metadata": {},
   "outputs": [],
   "source": [
    "grid.values = SF.sample_vertices(GRID3.get_nodes_array(grid), SF.absolute(phi))\n",
    "bV, bT, bA = VM.from_grid3d(grid)\n",
    "make_cut_plane_view(bV, bT, ax=2, colors=bA)"
   ]
  },
  {
   "cell_type": "code",
   "execution_count": null,
   "metadata": {},
   "outputs": [],
   "source": [
    "h = SF.clamp(phi, SF.const(-3), SF.const(3))\n",
    "grid.values = SF.sample_vertices(GRID3.get_nodes_array(grid), h)\n",
    "bV, bT, bA = VM.from_grid3d(grid)\n",
    "make_cut_plane_view(bV, bT, ax=2, colors=bA)"
   ]
  },
  {
   "cell_type": "code",
   "execution_count": null,
   "metadata": {},
   "outputs": [],
   "source": [
    "kappa = SF.curvature(phi)\n",
    "grid.values = SF.sample_vertices(GRID3.get_nodes_array(grid), kappa)\n",
    "bV, bT, bA = VM.from_grid3d(grid)\n",
    "make_cut_plane_view(bV, bT, ax=2, colors=bA)"
   ]
  },
  {
   "cell_type": "code",
   "execution_count": null,
   "metadata": {},
   "outputs": [],
   "source": [
    "h = SF.if_statement( SF.greater(phi, SF.const(0)), SF.const(2), SF.const(1) )\n",
    "grid.values = SF.sample_vertices(GRID3.get_nodes_array(grid), h)\n",
    "bV, bT, bA = VM.from_grid3d(grid)\n",
    "make_cut_plane_view(bV, bT, ax=2, colors=bA)"
   ]
  },
  {
   "cell_type": "code",
   "execution_count": null,
   "metadata": {},
   "outputs": [],
   "source": [
    "h = SF.if_statement( SF.less(phi, SF.const(0)), SF.const(2), SF.const(1) )\n",
    "grid.values = SF.sample_vertices(GRID3.get_nodes_array(grid), h)\n",
    "bV, bT, bA = VM.from_grid3d(grid)\n",
    "make_cut_plane_view(bV, bT, ax=2, colors=bA)"
   ]
  },
  {
   "cell_type": "code",
   "execution_count": null,
   "metadata": {},
   "outputs": [],
   "source": [
    "h = SF.if_statement( SF.greater(phi, SF.const(0)), phi, SF.add(phi, SF.const(5)) )\n",
    "grid.values = SF.sample_vertices(GRID3.get_nodes_array(grid), h)\n",
    "bV, bT, bA = VM.from_grid3d(grid)\n",
    "make_cut_plane_view(bV, bT, ax=2, colors=bA)"
   ]
  },
  {
   "cell_type": "code",
   "execution_count": null,
   "metadata": {},
   "outputs": [],
   "source": []
  }
 ],
 "metadata": {
  "kernelspec": {
   "display_name": "Python 3 (ipykernel)",
   "language": "python",
   "name": "python3"
  },
  "language_info": {
   "codemirror_mode": {
    "name": "ipython",
    "version": 3
   },
   "file_extension": ".py",
   "mimetype": "text/x-python",
   "name": "python",
   "nbconvert_exporter": "python",
   "pygments_lexer": "ipython3",
   "version": "3.9.7"
  }
 },
 "nbformat": 4,
 "nbformat_minor": 4
}
